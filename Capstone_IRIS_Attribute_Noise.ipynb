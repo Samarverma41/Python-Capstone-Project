{
  "nbformat": 4,
  "nbformat_minor": 0,
  "metadata": {
    "kernelspec": {
      "name": "python3",
      "display_name": "Python 3"
    },
    "language_info": {
      "codemirror_mode": {
        "name": "ipython",
        "version": 3
      },
      "file_extension": ".py",
      "mimetype": "text/x-python",
      "name": "python",
      "nbconvert_exporter": "python",
      "pygments_lexer": "ipython3",
      "version": "3.7.4"
    },
    "colab": {
      "name": "Capstone_IRIS_Attribute_Noise.ipynb",
      "provenance": [],
      "collapsed_sections": []
    },
    "accelerator": "TPU"
  },
  "cells": [
    {
      "cell_type": "markdown",
      "metadata": {
        "id": "jyi7VuVFGRfE",
        "colab_type": "text"
      },
      "source": [
        "**Part 1: Preparing the data set**"
      ]
    },
    {
      "cell_type": "code",
      "metadata": {
        "id": "xXhqpMvSpG4I",
        "colab_type": "code",
        "colab": {}
      },
      "source": [
        "#Loading the IRIS Dataset & Printing the \n",
        "from sklearn.datasets import load_iris\n",
        "iris=load_iris()"
      ],
      "execution_count": 0,
      "outputs": []
    },
    {
      "cell_type": "code",
      "metadata": {
        "id": "ZcdcCGQ-IDkd",
        "colab_type": "code",
        "colab": {
          "base_uri": "https://localhost:8080/",
          "height": 51
        },
        "outputId": "4a6981ff-a060-4c7b-834d-47c35fb11b8c"
      },
      "source": [
        "#Printing the type of outputs\n",
        "print(iris.target_names)\n",
        "print(set(iris.target))"
      ],
      "execution_count": 2,
      "outputs": [
        {
          "output_type": "stream",
          "text": [
            "['setosa' 'versicolor' 'virginica']\n",
            "{0, 1, 2}\n"
          ],
          "name": "stdout"
        }
      ]
    },
    {
      "cell_type": "code",
      "metadata": {
        "id": "nW_ECjxdIHO4",
        "colab_type": "code",
        "colab": {
          "base_uri": "https://localhost:8080/",
          "height": 419
        },
        "outputId": "d3bfd39e-e262-454a-c56a-6fda65653021"
      },
      "source": [
        "#Printing the whole dataset\n",
        "import pandas as pd\n",
        "iris_dataset = pd.DataFrame(iris.data, columns = iris.feature_names)\n",
        "iris_dataset[\"Flower_Type\"] = iris.target\n",
        "iris_dataset"
      ],
      "execution_count": 3,
      "outputs": [
        {
          "output_type": "execute_result",
          "data": {
            "text/html": [
              "<div>\n",
              "<style scoped>\n",
              "    .dataframe tbody tr th:only-of-type {\n",
              "        vertical-align: middle;\n",
              "    }\n",
              "\n",
              "    .dataframe tbody tr th {\n",
              "        vertical-align: top;\n",
              "    }\n",
              "\n",
              "    .dataframe thead th {\n",
              "        text-align: right;\n",
              "    }\n",
              "</style>\n",
              "<table border=\"1\" class=\"dataframe\">\n",
              "  <thead>\n",
              "    <tr style=\"text-align: right;\">\n",
              "      <th></th>\n",
              "      <th>sepal length (cm)</th>\n",
              "      <th>sepal width (cm)</th>\n",
              "      <th>petal length (cm)</th>\n",
              "      <th>petal width (cm)</th>\n",
              "      <th>Flower_Type</th>\n",
              "    </tr>\n",
              "  </thead>\n",
              "  <tbody>\n",
              "    <tr>\n",
              "      <th>0</th>\n",
              "      <td>5.1</td>\n",
              "      <td>3.5</td>\n",
              "      <td>1.4</td>\n",
              "      <td>0.2</td>\n",
              "      <td>0</td>\n",
              "    </tr>\n",
              "    <tr>\n",
              "      <th>1</th>\n",
              "      <td>4.9</td>\n",
              "      <td>3.0</td>\n",
              "      <td>1.4</td>\n",
              "      <td>0.2</td>\n",
              "      <td>0</td>\n",
              "    </tr>\n",
              "    <tr>\n",
              "      <th>2</th>\n",
              "      <td>4.7</td>\n",
              "      <td>3.2</td>\n",
              "      <td>1.3</td>\n",
              "      <td>0.2</td>\n",
              "      <td>0</td>\n",
              "    </tr>\n",
              "    <tr>\n",
              "      <th>3</th>\n",
              "      <td>4.6</td>\n",
              "      <td>3.1</td>\n",
              "      <td>1.5</td>\n",
              "      <td>0.2</td>\n",
              "      <td>0</td>\n",
              "    </tr>\n",
              "    <tr>\n",
              "      <th>4</th>\n",
              "      <td>5.0</td>\n",
              "      <td>3.6</td>\n",
              "      <td>1.4</td>\n",
              "      <td>0.2</td>\n",
              "      <td>0</td>\n",
              "    </tr>\n",
              "    <tr>\n",
              "      <th>...</th>\n",
              "      <td>...</td>\n",
              "      <td>...</td>\n",
              "      <td>...</td>\n",
              "      <td>...</td>\n",
              "      <td>...</td>\n",
              "    </tr>\n",
              "    <tr>\n",
              "      <th>145</th>\n",
              "      <td>6.7</td>\n",
              "      <td>3.0</td>\n",
              "      <td>5.2</td>\n",
              "      <td>2.3</td>\n",
              "      <td>2</td>\n",
              "    </tr>\n",
              "    <tr>\n",
              "      <th>146</th>\n",
              "      <td>6.3</td>\n",
              "      <td>2.5</td>\n",
              "      <td>5.0</td>\n",
              "      <td>1.9</td>\n",
              "      <td>2</td>\n",
              "    </tr>\n",
              "    <tr>\n",
              "      <th>147</th>\n",
              "      <td>6.5</td>\n",
              "      <td>3.0</td>\n",
              "      <td>5.2</td>\n",
              "      <td>2.0</td>\n",
              "      <td>2</td>\n",
              "    </tr>\n",
              "    <tr>\n",
              "      <th>148</th>\n",
              "      <td>6.2</td>\n",
              "      <td>3.4</td>\n",
              "      <td>5.4</td>\n",
              "      <td>2.3</td>\n",
              "      <td>2</td>\n",
              "    </tr>\n",
              "    <tr>\n",
              "      <th>149</th>\n",
              "      <td>5.9</td>\n",
              "      <td>3.0</td>\n",
              "      <td>5.1</td>\n",
              "      <td>1.8</td>\n",
              "      <td>2</td>\n",
              "    </tr>\n",
              "  </tbody>\n",
              "</table>\n",
              "<p>150 rows × 5 columns</p>\n",
              "</div>"
            ],
            "text/plain": [
              "     sepal length (cm)  sepal width (cm)  ...  petal width (cm)  Flower_Type\n",
              "0                  5.1               3.5  ...               0.2            0\n",
              "1                  4.9               3.0  ...               0.2            0\n",
              "2                  4.7               3.2  ...               0.2            0\n",
              "3                  4.6               3.1  ...               0.2            0\n",
              "4                  5.0               3.6  ...               0.2            0\n",
              "..                 ...               ...  ...               ...          ...\n",
              "145                6.7               3.0  ...               2.3            2\n",
              "146                6.3               2.5  ...               1.9            2\n",
              "147                6.5               3.0  ...               2.0            2\n",
              "148                6.2               3.4  ...               2.3            2\n",
              "149                5.9               3.0  ...               1.8            2\n",
              "\n",
              "[150 rows x 5 columns]"
            ]
          },
          "metadata": {
            "tags": []
          },
          "execution_count": 3
        }
      ]
    },
    {
      "cell_type": "code",
      "metadata": {
        "id": "3oM0FysEpG4T",
        "colab_type": "code",
        "colab": {}
      },
      "source": [
        "#Seperating the data into dependent and independent variables\n",
        "X=iris.data\n",
        "y=iris.target"
      ],
      "execution_count": 0,
      "outputs": []
    },
    {
      "cell_type": "code",
      "metadata": {
        "id": "UlSPS5sBpG4Y",
        "colab_type": "code",
        "colab": {}
      },
      "source": [
        "#Normalizing the data and splitting into testing and training data set.\n",
        "from sklearn.model_selection import train_test_split\n",
        "import pandas as pd\n",
        "from scipy.stats import zscore\n",
        "X_Zscore = pd.DataFrame(X).apply(zscore)\n",
        "X_Zscore = X_Zscore.to_numpy()\n",
        "X_train,X_test,y_train,y_test=train_test_split(X_Zscore,y,test_size=0.2)"
      ],
      "execution_count": 0,
      "outputs": []
    },
    {
      "cell_type": "markdown",
      "metadata": {
        "id": "sx6BZ6uGI_Lv",
        "colab_type": "text"
      },
      "source": [
        "**Part 2: Defining functions for different Algorithms**"
      ]
    },
    {
      "cell_type": "markdown",
      "metadata": {
        "id": "OxVDeHkIJERJ",
        "colab_type": "text"
      },
      "source": [
        "NOTE: In all the functions used to train and produce results for various algorithms,\n",
        "one paramete caller \"print_flag\" is used with value (0 or 1). If value is 1 then function will also print Test values\n",
        "and predicted values for comparison. If 0 then it will only return accuracy_score. By default it is made 0 in order to keep\n",
        "the results produced compact. While calling individual functions, one can change it to 1 to more detailed analysis."
      ]
    },
    {
      "cell_type": "code",
      "metadata": {
        "id": "YCkPw0zXpG4j",
        "colab_type": "code",
        "colab": {}
      },
      "source": [
        "#Defining logistic regression function\n",
        "from sklearn.linear_model import LogisticRegression\n",
        "from sklearn import metrics\n",
        "from sklearn.metrics import roc_auc_score\n",
        "def training_function_LogisticRegression(x_train, y_train,x_test,y_test, print_flag=0):\n",
        "    my_model = LogisticRegression(solver = 'lbfgs',multi_class = 'auto')\n",
        "    my_model.fit(x_train, y_train)\n",
        "    y_pred = my_model.predict(x_test)\n",
        "    \n",
        "    if(print_flag == 1):\n",
        "        print(('Pred values: %s'%y_pred))\n",
        "        print(('Test values: %s'%y_test))  \n",
        "        print ('Accuracy of Logistic Regression on test set: {:.2f}'.format(metrics.accuracy_score(y_test,y_pred)))\n",
        "        print('------------------------------------------------')\n",
        "    \n",
        "    \n",
        "    return (metrics.accuracy_score(y_test,y_pred))\n"
      ],
      "execution_count": 0,
      "outputs": []
    },
    {
      "cell_type": "code",
      "metadata": {
        "id": "6rurdweYpG4o",
        "colab_type": "code",
        "colab": {}
      },
      "source": [
        "#Defining KNN function\n",
        "from sklearn.neighbors import KNeighborsClassifier\n",
        "def training_function_KNN(x_train, y_train,x_test,y_test,neighbours, print_flag=0):\n",
        "    my_model = KNeighborsClassifier(n_neighbors = neighbours)\n",
        "    my_model.fit(x_train, y_train)\n",
        "    y_pred = my_model.predict(x_test)\n",
        "    \n",
        "    if(print_flag == 1):\n",
        "        print(('Pred values: %s'%y_pred))\n",
        "        print(('Test values: %s'%y_test))\n",
        "        print('Accuracy of KNN on test set: {:.2f}'.format(metrics.accuracy_score(y_test,y_pred)))\n",
        "        print('------------------------------------------------')\n",
        "        \n",
        "        \n",
        "        \n",
        "    return (metrics.accuracy_score(y_test,y_pred))\n"
      ],
      "execution_count": 0,
      "outputs": []
    },
    {
      "cell_type": "code",
      "metadata": {
        "id": "LNWjHZxwpG4u",
        "colab_type": "code",
        "colab": {}
      },
      "source": [
        "#Defining fuction for SVM model\n",
        "from sklearn.svm import SVC\n",
        "def training_function_SVM(x_train, y_train,x_test,y_test,kernel_name, print_flag=0):\n",
        "    my_model = SVC(kernel = kernel_name,probability=True)\n",
        "    my_model.fit(x_train, y_train)\n",
        "    y_pred = my_model.predict(x_test)\n",
        "    \n",
        "    if(print_flag == 1):\n",
        "        print(('Pred values: %s'%y_pred))\n",
        "        print(('Test values: %s'%y_test))\n",
        "        print('Accuracy of SVM on test set: {:.2f}'.format(metrics.accuracy_score(y_test,y_pred)))\n",
        "        print('------------------------------------------------')\n",
        "    \n",
        "    \n",
        "    return (metrics.accuracy_score(y_test,y_pred))\n",
        "\n"
      ],
      "execution_count": 0,
      "outputs": []
    },
    {
      "cell_type": "code",
      "metadata": {
        "id": "2WLZZa70pG4y",
        "colab_type": "code",
        "colab": {}
      },
      "source": [
        "#Defining fuction for XGBoost model\n",
        "from xgboost import XGBClassifier\n",
        "def training_function_XGBoost(x_train, y_train,x_test,y_test, print_flag=0):\n",
        "    my_model = XGBClassifier()\n",
        "    my_model.fit(x_train, y_train)\n",
        "    y_pred = my_model.predict(x_test)\n",
        "    \n",
        "    if(print_flag == 1):\n",
        "        print(('Pred values: %s'%y_pred))\n",
        "        print(('Test values: %s'%y_test))\n",
        "        print('Accuracy of XGBoost on test set: {:.2f}'.format(metrics.accuracy_score(y_test,y_pred)))\n",
        "        print('------------------------------------------------')\n",
        "        \n",
        "        \n",
        "    return (metrics.accuracy_score(y_test,y_pred))\n"
      ],
      "execution_count": 0,
      "outputs": []
    },
    {
      "cell_type": "code",
      "metadata": {
        "id": "VkqALuHYpG42",
        "colab_type": "code",
        "colab": {}
      },
      "source": [
        "#Defining fuction for Naive Bayes algorithm\n",
        "from sklearn.naive_bayes import GaussianNB\n",
        "def training_function_GaussianNB(x_train, y_train,x_test,y_test, print_flag=0):\n",
        "    my_model = GaussianNB()\n",
        "    y_pred = my_model.fit(x_train, y_train).predict(x_test)\n",
        "    \n",
        "    \n",
        "    if(print_flag == 1):\n",
        "        print(('Pred values: %s'%y_pred))\n",
        "        print(('Test values: %s'%y_test))\n",
        "        print('Accuracy of Naive Bayes Classifier on test set: {:.2f}'.format(metrics.accuracy_score(y_test,y_pred)))\n",
        "        print('------------------------------------------------')\n",
        "        \n",
        "        \n",
        "        \n",
        "    return (metrics.accuracy_score(y_test,y_pred))\n"
      ],
      "execution_count": 0,
      "outputs": []
    },
    {
      "cell_type": "code",
      "metadata": {
        "id": "fEZjYVfwpG46",
        "colab_type": "code",
        "colab": {}
      },
      "source": [
        "#Defining fuction for Stochastic gradient descent\n",
        "from sklearn.linear_model import SGDClassifier\n",
        "def training_function_SGDClassifier(x_train, y_train,x_test,y_test, print_flag=0):\n",
        "    my_model = SGDClassifier(loss = 'modified_huber', shuffle = True, random_state = 101)\n",
        "    y_pred = my_model.fit(x_train, y_train).predict(x_test)\n",
        "    \n",
        "    \n",
        "    if(print_flag == 1):\n",
        "        print(('Pred values: %s'%y_pred))\n",
        "        print(('Test values: %s'%y_test))\n",
        "        print('Accuracy of SGDClassifier on test set: {:.2f}'.format(metrics.accuracy_score(y_test,y_pred)))\n",
        "        print('------------------------------------------------')\n",
        "    \n",
        "    \n",
        "    return (metrics.accuracy_score(y_test,y_pred))\n"
      ],
      "execution_count": 0,
      "outputs": []
    },
    {
      "cell_type": "code",
      "metadata": {
        "id": "xG4x76OwpG4_",
        "colab_type": "code",
        "colab": {}
      },
      "source": [
        "#Defining fuction for Decision Tree\n",
        "from sklearn.tree import DecisionTreeClassifier\n",
        "def training_function_DecisionTree(x_train, y_train,x_test,y_test, print_flag=0):\n",
        "    my_model = DecisionTreeClassifier(max_depth = 10, random_state=101,\n",
        "                              max_features = None, min_samples_leaf = 15)\n",
        "    y_pred = my_model.fit(x_train, y_train).predict(x_test)\n",
        "    \n",
        "    if(print_flag == 1):\n",
        "        print(('Pred values: %s'%y_pred))\n",
        "        print(('Test values: %s'%y_test))\n",
        "        print('Accuracy of DecisionTree classifier on test set: {:.2f}'.format(metrics.accuracy_score(y_test,y_pred)))\n",
        "        print('------------------------------------------------')\n",
        "  \n",
        "\n",
        "    return (metrics.accuracy_score(y_test,y_pred))\n"
      ],
      "execution_count": 0,
      "outputs": []
    },
    {
      "cell_type": "code",
      "metadata": {
        "id": "GQLWTx9bpG5G",
        "colab_type": "code",
        "colab": {}
      },
      "source": [
        "#Defining fuction for Random Forest\n",
        "from sklearn.ensemble import RandomForestClassifier\n",
        "def training_function_RandomForest(x_train, y_train,x_test,y_test, print_flag=0):\n",
        "    my_model = RandomForestClassifier(n_estimators = 70, oob_score = True, \n",
        "                            n_jobs = -1, random_state = 101,\n",
        "                            max_features = None, min_samples_leaf = 30)\n",
        "    y_pred = my_model.fit(x_train, y_train).predict(x_test)\n",
        "    \n",
        "    \n",
        "    if(print_flag == 1):\n",
        "        print(('Pred values: %s'%y_pred))\n",
        "        print(('Test values: %s'%y_test))\n",
        "        print('Accuracy of Random forest classifier on test set: {:.2f}'.format(metrics.accuracy_score(y_test,y_pred)))\n",
        "        print('------------------------------------------------')\n",
        "\n",
        "    \n",
        "    return (metrics.accuracy_score(y_test,y_pred))"
      ],
      "execution_count": 0,
      "outputs": []
    },
    {
      "cell_type": "markdown",
      "metadata": {
        "id": "1sh_yLbXJqm7",
        "colab_type": "text"
      },
      "source": [
        "**Part 3: Training and validation phase**"
      ]
    },
    {
      "cell_type": "code",
      "metadata": {
        "id": "6pitEKNipG5N",
        "colab_type": "code",
        "colab": {}
      },
      "source": [
        "#Defining a function in order to insert random noise into the training data set\n",
        "# n - defines the level of noise\n",
        "import numpy as np\n",
        "def random_number_addition(n):\n",
        "    data = X_train.copy()\n",
        "    for i in range(len(X_train)):\n",
        "        for j in range(len(X_train[i])):\n",
        "            data[i][j] = X_train[i][j] + n*(1-2*np.random.rand())\n",
        "    return data\n"
      ],
      "execution_count": 0,
      "outputs": []
    },
    {
      "cell_type": "code",
      "metadata": {
        "id": "t2p3AT4_wS7J",
        "colab_type": "code",
        "colab": {}
      },
      "source": [
        "#This function caluclates the average accuracy scores over 100 epochs for all the algorithms at every level of noise\n",
        "# This function returns four types of values\n",
        "# Level_error: List of Mean accuracies for every level of attribute noise for every algorithm\n",
        "\n",
        "# Below three variables are used while plotting boxplots\n",
        "# Accuracies: List of accuracy at every epoch for every level of attribute noise for every algorithm\n",
        "# Level_name: List of attribute noise level at every epoch for every level of attribute noise for every algorithm\n",
        "# Algo_name: List of algorithms used at every epoch for every level of attribute noise for every algorithm\n",
        "\n",
        "def different_error_levels(input): #Input is upto how many levels of noise we want to get the results\n",
        "    Accuracies = []\n",
        "    Level_name = []\n",
        "    Algo_name = []\n",
        "    Algorithms = ['LogisticRegression','KNN','SVM','DecisionTree','RandomForest','SGDClassifier','GaussianNB','XGBoost']\n",
        "    Level_error = [] # This is a list of lists which contains mean errors for each level of noise for all the used algorithms\n",
        "    for i in range((input+1)): \n",
        "        level = i\n",
        "        k = []\n",
        "        for cnt in range(100): # For every level of noise, code is run 100 times and its average is taken\n",
        "            X_train_new = random_number_addition(level)\n",
        "            Errors = [\n",
        "            training_function_LogisticRegression(X_train_new,y_train,X_test,y_test).round(2),\n",
        "            training_function_KNN(X_train_new,y_train,X_test,y_test,3).round(2),\n",
        "            training_function_SVM(X_train_new,y_train,X_test,y_test,'linear').round(2) ,\n",
        "            training_function_DecisionTree(X_train_new,y_train,X_test,y_test).round(2) ,\n",
        "            training_function_RandomForest(X_train_new,y_train,X_test,y_test).round(2) ,\n",
        "            training_function_SGDClassifier(X_train_new,y_train,X_test,y_test).round(2),\n",
        "            training_function_GaussianNB(X_train_new,y_train,X_test,y_test).round(2) ,\n",
        "            training_function_XGBoost(X_train_new,y_train,X_test,y_test).round(2)\n",
        "           ]\n",
        "            k.append(Errors)\n",
        "            Accuracies.append(Errors)\n",
        "            Level_name.append(['Level_'+str(level)]*8)\n",
        "            Algo_name.append(Algorithms)\n",
        "            \n",
        "        mean_error = np.mean(k, axis = 0) #Calculates mean error for all algorithnms for a partular level of noise\n",
        "            \n",
        "        Level_error.append(mean_error)\n",
        "    return Level_error,Accuracies,Level_name,Algo_name"
      ],
      "execution_count": 0,
      "outputs": []
    },
    {
      "cell_type": "code",
      "metadata": {
        "id": "rqN7WH4x1Wn9",
        "colab_type": "code",
        "colab": {}
      },
      "source": [
        "#This code is used to get accuracy scores for various noise levels\n",
        "# Calling the above function (NOTE: This will take time to execute based on number of levels used)\n",
        "\n",
        "Total_error_levels = 10 #Change this variable to get data upto any level of noise\n",
        "Level_error,Accuracies,Level_name,Algo_name = different_error_levels(Total_error_levels) # Calling the above function (NOTE: This will take time to execute based on number of levels used)\n",
        "Algorithms = [ 'Logistic Regression','KNN','SVM','DecisionTree','RandomForest','SGDClassifier','GaussianNB','XGBoost'] \n",
        "df = pd.DataFrame(Algorithms, columns =['Algorithms'])\n",
        "\n"
      ],
      "execution_count": 0,
      "outputs": []
    },
    {
      "cell_type": "code",
      "metadata": {
        "id": "yfc7f0zWNqls",
        "colab_type": "code",
        "colab": {
          "base_uri": "https://localhost:8080/",
          "height": 328
        },
        "outputId": "052fb4ec-c1c0-4295-bb21-b45dde7c0d03"
      },
      "source": [
        "#Printing the dataframe\n",
        "for i in range(Total_error_levels+1):\n",
        "    df['Level_'+str(i)] = Level_error[i].round(2)\n",
        "df= df.set_index('Algorithms')\n",
        "df"
      ],
      "execution_count": 17,
      "outputs": [
        {
          "output_type": "execute_result",
          "data": {
            "text/html": [
              "<div>\n",
              "<style scoped>\n",
              "    .dataframe tbody tr th:only-of-type {\n",
              "        vertical-align: middle;\n",
              "    }\n",
              "\n",
              "    .dataframe tbody tr th {\n",
              "        vertical-align: top;\n",
              "    }\n",
              "\n",
              "    .dataframe thead th {\n",
              "        text-align: right;\n",
              "    }\n",
              "</style>\n",
              "<table border=\"1\" class=\"dataframe\">\n",
              "  <thead>\n",
              "    <tr style=\"text-align: right;\">\n",
              "      <th></th>\n",
              "      <th>Level_0</th>\n",
              "      <th>Level_1</th>\n",
              "      <th>Level_2</th>\n",
              "      <th>Level_3</th>\n",
              "      <th>Level_4</th>\n",
              "      <th>Level_5</th>\n",
              "      <th>Level_6</th>\n",
              "      <th>Level_7</th>\n",
              "      <th>Level_8</th>\n",
              "      <th>Level_9</th>\n",
              "      <th>Level_10</th>\n",
              "    </tr>\n",
              "    <tr>\n",
              "      <th>Algorithms</th>\n",
              "      <th></th>\n",
              "      <th></th>\n",
              "      <th></th>\n",
              "      <th></th>\n",
              "      <th></th>\n",
              "      <th></th>\n",
              "      <th></th>\n",
              "      <th></th>\n",
              "      <th></th>\n",
              "      <th></th>\n",
              "      <th></th>\n",
              "    </tr>\n",
              "  </thead>\n",
              "  <tbody>\n",
              "    <tr>\n",
              "      <th>Logistic Regression</th>\n",
              "      <td>0.93</td>\n",
              "      <td>0.90</td>\n",
              "      <td>0.85</td>\n",
              "      <td>0.81</td>\n",
              "      <td>0.71</td>\n",
              "      <td>0.64</td>\n",
              "      <td>0.58</td>\n",
              "      <td>0.53</td>\n",
              "      <td>0.49</td>\n",
              "      <td>0.45</td>\n",
              "      <td>0.42</td>\n",
              "    </tr>\n",
              "    <tr>\n",
              "      <th>KNN</th>\n",
              "      <td>0.93</td>\n",
              "      <td>0.82</td>\n",
              "      <td>0.62</td>\n",
              "      <td>0.41</td>\n",
              "      <td>0.34</td>\n",
              "      <td>0.33</td>\n",
              "      <td>0.32</td>\n",
              "      <td>0.34</td>\n",
              "      <td>0.33</td>\n",
              "      <td>0.31</td>\n",
              "      <td>0.32</td>\n",
              "    </tr>\n",
              "    <tr>\n",
              "      <th>SVM</th>\n",
              "      <td>0.97</td>\n",
              "      <td>0.90</td>\n",
              "      <td>0.85</td>\n",
              "      <td>0.80</td>\n",
              "      <td>0.71</td>\n",
              "      <td>0.64</td>\n",
              "      <td>0.58</td>\n",
              "      <td>0.53</td>\n",
              "      <td>0.49</td>\n",
              "      <td>0.44</td>\n",
              "      <td>0.41</td>\n",
              "    </tr>\n",
              "    <tr>\n",
              "      <th>DecisionTree</th>\n",
              "      <td>0.90</td>\n",
              "      <td>0.85</td>\n",
              "      <td>0.70</td>\n",
              "      <td>0.53</td>\n",
              "      <td>0.42</td>\n",
              "      <td>0.39</td>\n",
              "      <td>0.36</td>\n",
              "      <td>0.34</td>\n",
              "      <td>0.33</td>\n",
              "      <td>0.34</td>\n",
              "      <td>0.32</td>\n",
              "    </tr>\n",
              "    <tr>\n",
              "      <th>RandomForest</th>\n",
              "      <td>0.93</td>\n",
              "      <td>0.66</td>\n",
              "      <td>0.77</td>\n",
              "      <td>0.69</td>\n",
              "      <td>0.57</td>\n",
              "      <td>0.58</td>\n",
              "      <td>0.53</td>\n",
              "      <td>0.47</td>\n",
              "      <td>0.43</td>\n",
              "      <td>0.40</td>\n",
              "      <td>0.37</td>\n",
              "    </tr>\n",
              "    <tr>\n",
              "      <th>SGDClassifier</th>\n",
              "      <td>0.93</td>\n",
              "      <td>0.82</td>\n",
              "      <td>0.76</td>\n",
              "      <td>0.64</td>\n",
              "      <td>0.61</td>\n",
              "      <td>0.61</td>\n",
              "      <td>0.53</td>\n",
              "      <td>0.45</td>\n",
              "      <td>0.46</td>\n",
              "      <td>0.46</td>\n",
              "      <td>0.42</td>\n",
              "    </tr>\n",
              "    <tr>\n",
              "      <th>GaussianNB</th>\n",
              "      <td>0.93</td>\n",
              "      <td>0.87</td>\n",
              "      <td>0.85</td>\n",
              "      <td>0.81</td>\n",
              "      <td>0.69</td>\n",
              "      <td>0.66</td>\n",
              "      <td>0.55</td>\n",
              "      <td>0.51</td>\n",
              "      <td>0.47</td>\n",
              "      <td>0.43</td>\n",
              "      <td>0.41</td>\n",
              "    </tr>\n",
              "    <tr>\n",
              "      <th>XGBoost</th>\n",
              "      <td>0.90</td>\n",
              "      <td>0.85</td>\n",
              "      <td>0.65</td>\n",
              "      <td>0.48</td>\n",
              "      <td>0.37</td>\n",
              "      <td>0.38</td>\n",
              "      <td>0.33</td>\n",
              "      <td>0.34</td>\n",
              "      <td>0.33</td>\n",
              "      <td>0.32</td>\n",
              "      <td>0.32</td>\n",
              "    </tr>\n",
              "  </tbody>\n",
              "</table>\n",
              "</div>"
            ],
            "text/plain": [
              "                     Level_0  Level_1  Level_2  ...  Level_8  Level_9  Level_10\n",
              "Algorithms                                      ...                            \n",
              "Logistic Regression     0.93     0.90     0.85  ...     0.49     0.45      0.42\n",
              "KNN                     0.93     0.82     0.62  ...     0.33     0.31      0.32\n",
              "SVM                     0.97     0.90     0.85  ...     0.49     0.44      0.41\n",
              "DecisionTree            0.90     0.85     0.70  ...     0.33     0.34      0.32\n",
              "RandomForest            0.93     0.66     0.77  ...     0.43     0.40      0.37\n",
              "SGDClassifier           0.93     0.82     0.76  ...     0.46     0.46      0.42\n",
              "GaussianNB              0.93     0.87     0.85  ...     0.47     0.43      0.41\n",
              "XGBoost                 0.90     0.85     0.65  ...     0.33     0.32      0.32\n",
              "\n",
              "[8 rows x 11 columns]"
            ]
          },
          "metadata": {
            "tags": []
          },
          "execution_count": 17
        }
      ]
    },
    {
      "cell_type": "markdown",
      "metadata": {
        "id": "5n3kEQ6PPqjO",
        "colab_type": "text"
      },
      "source": [
        "**Part 4: Plotting the results**"
      ]
    },
    {
      "cell_type": "code",
      "metadata": {
        "id": "cCjsLIcH7naU",
        "colab_type": "code",
        "outputId": "ca2e620f-98a9-41ae-fed2-9f8b5448b269",
        "colab": {
          "base_uri": "https://localhost:8080/",
          "height": 419
        }
      },
      "source": [
        "#Plotting the line graph for various noise levels\n",
        "import matplotlib.pyplot as plt\n",
        "n = Total_error_levels\n",
        "plt.figure(figsize=(n+5,n/2))\n",
        "for i in Algorithms:\n",
        "    plt.plot(df.loc[i,:], label=i, linewidth=3)\n",
        "\n",
        "\n",
        "plt.grid(which='major', linestyle='-', linewidth='0.5', color='blue')\n",
        "plt.minorticks_on()\n",
        "plt.grid(which='minor', linestyle=':', linewidth='0.5', color='black')\n",
        "\n",
        "plt.xticks(fontsize=12)\n",
        "plt.yticks(fontsize=12)\n",
        "\n",
        "plt.title(\"Accuracy of Algorithms - Attribute Noise\",fontsize='20')\n",
        "plt.xlabel('Error Levels',fontsize='17')\n",
        "plt.ylabel('Accuracy',fontsize='17')\n",
        "plt.legend(loc='upper center', bbox_to_anchor=(0.5, -0.15),\n",
        "          fancybox=True, shadow=True, ncol=5)\n"
      ],
      "execution_count": 18,
      "outputs": [
        {
          "output_type": "execute_result",
          "data": {
            "text/plain": [
              "<matplotlib.legend.Legend at 0x7f9e491e3b00>"
            ]
          },
          "metadata": {
            "tags": []
          },
          "execution_count": 18
        },
        {
          "output_type": "display_data",
          "data": {
            "image/png": "[encoded data removed]",
            "text/plain": [
              "<Figure size 1080x360 with 1 Axes>"
            ]
          },
          "metadata": {
            "tags": [],
            "needs_background": "light"
          }
        }
      ]
    },
    {
      "cell_type": "markdown",
      "metadata": {
        "id": "dF1fAdsaPl9v",
        "colab_type": "text"
      },
      "source": [
        "**Part 5: Generating barplots**"
      ]
    },
    {
      "cell_type": "code",
      "metadata": {
        "id": "PCiyq_HY252W",
        "colab_type": "code",
        "outputId": "c4f2d1c7-34b6-4d40-adb0-6126cce9822c",
        "colab": {
          "base_uri": "https://localhost:8080/",
          "height": 419
        }
      },
      "source": [
        "# The three variable generated in different_error_levels(input) function are combined to form a dataframe\n",
        "dm = pd.DataFrame()\n",
        "dm['Accuracies'] = sum(Accuracies,[])\n",
        "dm['Attribute_Noise_Levels'] = sum(Level_name,[])\n",
        "dm['Algos'] = sum(Algo_name,[])\n",
        "dm "
      ],
      "execution_count": 19,
      "outputs": [
        {
          "output_type": "execute_result",
          "data": {
            "text/html": [
              "<div>\n",
              "<style scoped>\n",
              "    .dataframe tbody tr th:only-of-type {\n",
              "        vertical-align: middle;\n",
              "    }\n",
              "\n",
              "    .dataframe tbody tr th {\n",
              "        vertical-align: top;\n",
              "    }\n",
              "\n",
              "    .dataframe thead th {\n",
              "        text-align: right;\n",
              "    }\n",
              "</style>\n",
              "<table border=\"1\" class=\"dataframe\">\n",
              "  <thead>\n",
              "    <tr style=\"text-align: right;\">\n",
              "      <th></th>\n",
              "      <th>Accuracies</th>\n",
              "      <th>Attribute_Noise_Levels</th>\n",
              "      <th>Algos</th>\n",
              "    </tr>\n",
              "  </thead>\n",
              "  <tbody>\n",
              "    <tr>\n",
              "      <th>0</th>\n",
              "      <td>0.93</td>\n",
              "      <td>Level_0</td>\n",
              "      <td>LogisticRegression</td>\n",
              "    </tr>\n",
              "    <tr>\n",
              "      <th>1</th>\n",
              "      <td>0.93</td>\n",
              "      <td>Level_0</td>\n",
              "      <td>KNN</td>\n",
              "    </tr>\n",
              "    <tr>\n",
              "      <th>2</th>\n",
              "      <td>0.97</td>\n",
              "      <td>Level_0</td>\n",
              "      <td>SVM</td>\n",
              "    </tr>\n",
              "    <tr>\n",
              "      <th>3</th>\n",
              "      <td>0.90</td>\n",
              "      <td>Level_0</td>\n",
              "      <td>DecisionTree</td>\n",
              "    </tr>\n",
              "    <tr>\n",
              "      <th>4</th>\n",
              "      <td>0.93</td>\n",
              "      <td>Level_0</td>\n",
              "      <td>RandomForest</td>\n",
              "    </tr>\n",
              "    <tr>\n",
              "      <th>...</th>\n",
              "      <td>...</td>\n",
              "      <td>...</td>\n",
              "      <td>...</td>\n",
              "    </tr>\n",
              "    <tr>\n",
              "      <th>8795</th>\n",
              "      <td>0.30</td>\n",
              "      <td>Level_10</td>\n",
              "      <td>DecisionTree</td>\n",
              "    </tr>\n",
              "    <tr>\n",
              "      <th>8796</th>\n",
              "      <td>0.30</td>\n",
              "      <td>Level_10</td>\n",
              "      <td>RandomForest</td>\n",
              "    </tr>\n",
              "    <tr>\n",
              "      <th>8797</th>\n",
              "      <td>0.07</td>\n",
              "      <td>Level_10</td>\n",
              "      <td>SGDClassifier</td>\n",
              "    </tr>\n",
              "    <tr>\n",
              "      <th>8798</th>\n",
              "      <td>0.20</td>\n",
              "      <td>Level_10</td>\n",
              "      <td>GaussianNB</td>\n",
              "    </tr>\n",
              "    <tr>\n",
              "      <th>8799</th>\n",
              "      <td>0.10</td>\n",
              "      <td>Level_10</td>\n",
              "      <td>XGBoost</td>\n",
              "    </tr>\n",
              "  </tbody>\n",
              "</table>\n",
              "<p>8800 rows × 3 columns</p>\n",
              "</div>"
            ],
            "text/plain": [
              "      Accuracies Attribute_Noise_Levels               Algos\n",
              "0           0.93                Level_0  LogisticRegression\n",
              "1           0.93                Level_0                 KNN\n",
              "2           0.97                Level_0                 SVM\n",
              "3           0.90                Level_0        DecisionTree\n",
              "4           0.93                Level_0        RandomForest\n",
              "...          ...                    ...                 ...\n",
              "8795        0.30               Level_10        DecisionTree\n",
              "8796        0.30               Level_10        RandomForest\n",
              "8797        0.07               Level_10       SGDClassifier\n",
              "8798        0.20               Level_10          GaussianNB\n",
              "8799        0.10               Level_10             XGBoost\n",
              "\n",
              "[8800 rows x 3 columns]"
            ]
          },
          "metadata": {
            "tags": []
          },
          "execution_count": 19
        }
      ]
    },
    {
      "cell_type": "code",
      "metadata": {
        "id": "l2-plMbwjgck",
        "colab_type": "code",
        "outputId": "75d74077-1139-470c-f113-8561963c3a73",
        "colab": {
          "base_uri": "https://localhost:8080/",
          "height": 306
        }
      },
      "source": [
        "#Selecting the levels of noise for box plots\n",
        "#This piece of code needs user input\n",
        "\n",
        "def get_n_levels():\n",
        "  n_levels = input (\"Enter the number of levels \"+str(Total_error_levels+1)+\" :\")\n",
        "  levels = []\n",
        "  for i in range(int(n_levels)):\n",
        "    s = input(\"Enter the level number from 0 to \"+str(Total_error_levels)+\" :\")\n",
        "    levels.append(\"Level_\"+str(s))  \n",
        "  return (levels)\n",
        "\n",
        "\n",
        "ans = 's'\n",
        "levels = []\n",
        "while(ans != \"Y\" and ans !=\"EXIT\"):\n",
        "  lev = []\n",
        "  lev = get_n_levels()\n",
        "  print(lev)\n",
        "  ans = input(print(''' Do you want above levels: Y/N\n",
        "  OR\n",
        "  Enter EXIT to move out. '''))\n",
        "  ans = ans.upper()\n",
        "  levels = lev\n"
      ],
      "execution_count": 20,
      "outputs": [
        {
          "output_type": "stream",
          "text": [
            "Enter the number of levels 11 :11\n",
            "Enter the level number from 0 to 10 :0\n",
            "Enter the level number from 0 to 10 :1\n",
            "Enter the level number from 0 to 10 :2\n",
            "Enter the level number from 0 to 10 :3\n",
            "Enter the level number from 0 to 10 :4\n",
            "Enter the level number from 0 to 10 :5\n",
            "Enter the level number from 0 to 10 :6\n",
            "Enter the level number from 0 to 10 :7\n",
            "Enter the level number from 0 to 10 :8\n",
            "Enter the level number from 0 to 10 :9\n",
            "Enter the level number from 0 to 10 :10\n",
            "['Level_0', 'Level_1', 'Level_2', 'Level_3', 'Level_4', 'Level_5', 'Level_6', 'Level_7', 'Level_8', 'Level_9', 'Level_10']\n",
            " Do you want above levels: Y/N\n",
            "  OR\n",
            "  Enter EXIT to move out. \n",
            "y\n"
          ],
          "name": "stdout"
        }
      ]
    },
    {
      "cell_type": "code",
      "metadata": {
        "id": "9qWL1o9tkR-f",
        "colab_type": "code",
        "outputId": "c7ee8293-5720-4e89-9450-b52f12599c28",
        "colab": {
          "base_uri": "https://localhost:8080/",
          "height": 408
        }
      },
      "source": [
        "#Selecting the Algorithms for box plots\n",
        "#This piece of code needs user input\n",
        "\n",
        "Algos = {1:'LogisticRegression',\n",
        "         2:'KNN',\n",
        "         3:'SVM',\n",
        "         4:'DecisionTree',\n",
        "         5:'RandomForest',\n",
        "         6:'SGDClassifier',\n",
        "         7:'GaussianNB',\n",
        "         8:'XGBoost'}\n",
        "print(\"Following Algos are availale:\")\n",
        "for i in Algos:\n",
        "  print(str(i)+':'+Algos[i])\n",
        "\n",
        "\n",
        "def get_algos():\n",
        "  B_algos = []\n",
        "  n_algos = input (\"Enter the number of algos: \")\n",
        "  for i in range(int(n_algos)):\n",
        "    s = int(input(\"Enter the algo number: \"))\n",
        "    B_algos.append(Algos[s])\n",
        "  return B_algos\n",
        "\n",
        "\n",
        "ans = 's'\n",
        "Box_algos = []\n",
        "while(ans != \"Y\" and ans !=\"EXIT\"):\n",
        "  b = []\n",
        "  b = get_algos()\n",
        "  print(b)\n",
        "  ans = input(print(''' Do you want above Algorithms in boxplots: Y/N\n",
        "  OR \n",
        "  Enter EXIT to move out. '''))\n",
        "  ans = ans.upper()\n",
        "  Box_algos = b\n",
        "\n"
      ],
      "execution_count": 21,
      "outputs": [
        {
          "output_type": "stream",
          "text": [
            "Following Algos are availale:\n",
            "1:LogisticRegression\n",
            "2:KNN\n",
            "3:SVM\n",
            "4:DecisionTree\n",
            "5:RandomForest\n",
            "6:SGDClassifier\n",
            "7:GaussianNB\n",
            "8:XGBoost\n",
            "Enter the number of algos: 8\n",
            "Enter the algo number: 1\n",
            "Enter the algo number: 2\n",
            "Enter the algo number: 3\n",
            "Enter the algo number: 4\n",
            "Enter the algo number: 5\n",
            "Enter the algo number: 6\n",
            "Enter the algo number: 7\n",
            "Enter the algo number: 8\n",
            "['LogisticRegression', 'KNN', 'SVM', 'DecisionTree', 'RandomForest', 'SGDClassifier', 'GaussianNB', 'XGBoost']\n",
            " Do you want above Algorithms in boxplots: Y/N\n",
            "  OR \n",
            "  Enter EXIT to move out. \n",
            "y\n"
          ],
          "name": "stdout"
        }
      ]
    },
    {
      "cell_type": "code",
      "metadata": {
        "id": "SYRD3b84fQ4f",
        "colab_type": "code",
        "outputId": "252576f4-ada0-4b1e-a752-6a4994bd2049",
        "colab": {
          "base_uri": "https://localhost:8080/",
          "height": 51
        }
      },
      "source": [
        "print(\"Algos used in Box plots: \",Box_algos)\n",
        "print(\"Levels of noise used in Box plots: \",levels)"
      ],
      "execution_count": 22,
      "outputs": [
        {
          "output_type": "stream",
          "text": [
            "Algos used in Box plots:  ['LogisticRegression', 'KNN', 'SVM', 'DecisionTree', 'RandomForest', 'SGDClassifier', 'GaussianNB', 'XGBoost']\n",
            "Levels of noise used in Box plots:  ['Level_0', 'Level_1', 'Level_2', 'Level_3', 'Level_4', 'Level_5', 'Level_6', 'Level_7', 'Level_8', 'Level_9', 'Level_10']\n"
          ],
          "name": "stdout"
        }
      ]
    },
    {
      "cell_type": "code",
      "metadata": {
        "id": "TgWAEni5lr0s",
        "colab_type": "code",
        "outputId": "7e947624-a09c-41ac-d3a5-adcc8dd2006b",
        "colab": {
          "base_uri": "https://localhost:8080/",
          "height": 419
        }
      },
      "source": [
        "#Selecting the data based on the levels and Algos to be used in boxplots\n",
        "box_data = dm[dm['Algos'].isin(Box_algos) & dm['Attribute_Noise_Levels'].isin(levels)]\n",
        "box_data"
      ],
      "execution_count": 23,
      "outputs": [
        {
          "output_type": "execute_result",
          "data": {
            "text/html": [
              "<div>\n",
              "<style scoped>\n",
              "    .dataframe tbody tr th:only-of-type {\n",
              "        vertical-align: middle;\n",
              "    }\n",
              "\n",
              "    .dataframe tbody tr th {\n",
              "        vertical-align: top;\n",
              "    }\n",
              "\n",
              "    .dataframe thead th {\n",
              "        text-align: right;\n",
              "    }\n",
              "</style>\n",
              "<table border=\"1\" class=\"dataframe\">\n",
              "  <thead>\n",
              "    <tr style=\"text-align: right;\">\n",
              "      <th></th>\n",
              "      <th>Accuracies</th>\n",
              "      <th>Attribute_Noise_Levels</th>\n",
              "      <th>Algos</th>\n",
              "    </tr>\n",
              "  </thead>\n",
              "  <tbody>\n",
              "    <tr>\n",
              "      <th>0</th>\n",
              "      <td>0.93</td>\n",
              "      <td>Level_0</td>\n",
              "      <td>LogisticRegression</td>\n",
              "    </tr>\n",
              "    <tr>\n",
              "      <th>1</th>\n",
              "      <td>0.93</td>\n",
              "      <td>Level_0</td>\n",
              "      <td>KNN</td>\n",
              "    </tr>\n",
              "    <tr>\n",
              "      <th>2</th>\n",
              "      <td>0.97</td>\n",
              "      <td>Level_0</td>\n",
              "      <td>SVM</td>\n",
              "    </tr>\n",
              "    <tr>\n",
              "      <th>3</th>\n",
              "      <td>0.90</td>\n",
              "      <td>Level_0</td>\n",
              "      <td>DecisionTree</td>\n",
              "    </tr>\n",
              "    <tr>\n",
              "      <th>4</th>\n",
              "      <td>0.93</td>\n",
              "      <td>Level_0</td>\n",
              "      <td>RandomForest</td>\n",
              "    </tr>\n",
              "    <tr>\n",
              "      <th>...</th>\n",
              "      <td>...</td>\n",
              "      <td>...</td>\n",
              "      <td>...</td>\n",
              "    </tr>\n",
              "    <tr>\n",
              "      <th>8795</th>\n",
              "      <td>0.30</td>\n",
              "      <td>Level_10</td>\n",
              "      <td>DecisionTree</td>\n",
              "    </tr>\n",
              "    <tr>\n",
              "      <th>8796</th>\n",
              "      <td>0.30</td>\n",
              "      <td>Level_10</td>\n",
              "      <td>RandomForest</td>\n",
              "    </tr>\n",
              "    <tr>\n",
              "      <th>8797</th>\n",
              "      <td>0.07</td>\n",
              "      <td>Level_10</td>\n",
              "      <td>SGDClassifier</td>\n",
              "    </tr>\n",
              "    <tr>\n",
              "      <th>8798</th>\n",
              "      <td>0.20</td>\n",
              "      <td>Level_10</td>\n",
              "      <td>GaussianNB</td>\n",
              "    </tr>\n",
              "    <tr>\n",
              "      <th>8799</th>\n",
              "      <td>0.10</td>\n",
              "      <td>Level_10</td>\n",
              "      <td>XGBoost</td>\n",
              "    </tr>\n",
              "  </tbody>\n",
              "</table>\n",
              "<p>8800 rows × 3 columns</p>\n",
              "</div>"
            ],
            "text/plain": [
              "      Accuracies Attribute_Noise_Levels               Algos\n",
              "0           0.93                Level_0  LogisticRegression\n",
              "1           0.93                Level_0                 KNN\n",
              "2           0.97                Level_0                 SVM\n",
              "3           0.90                Level_0        DecisionTree\n",
              "4           0.93                Level_0        RandomForest\n",
              "...          ...                    ...                 ...\n",
              "8795        0.30               Level_10        DecisionTree\n",
              "8796        0.30               Level_10        RandomForest\n",
              "8797        0.07               Level_10       SGDClassifier\n",
              "8798        0.20               Level_10          GaussianNB\n",
              "8799        0.10               Level_10             XGBoost\n",
              "\n",
              "[8800 rows x 3 columns]"
            ]
          },
          "metadata": {
            "tags": []
          },
          "execution_count": 23
        }
      ]
    },
    {
      "cell_type": "code",
      "metadata": {
        "id": "z_23bAwg256f",
        "colab_type": "code",
        "outputId": "94f97bb3-85d6-45c8-9fd2-505af5212006",
        "colab": {
          "base_uri": "https://localhost:8080/",
          "height": 678
        }
      },
      "source": [
        "#Plotting the box plots of the selected data\n",
        "import seaborn as sns\n",
        "plt.figure(figsize=(20,10))\n",
        "sns.boxplot(y='Accuracies', x='Attribute_Noise_Levels', \n",
        "                 data=box_data, \n",
        "                 palette=\"colorblind\",\n",
        "                 hue='Algos')"
      ],
      "execution_count": 24,
      "outputs": [
        {
          "output_type": "stream",
          "text": [
            "/usr/local/lib/python3.6/dist-packages/statsmodels/tools/_testing.py:19: FutureWarning: pandas.util.testing is deprecated. Use the functions in the public API at pandas.testing instead.\n",
            "  import pandas.util.testing as tm\n"
          ],
          "name": "stderr"
        },
        {
          "output_type": "execute_result",
          "data": {
            "text/plain": [
              "<matplotlib.axes._subplots.AxesSubplot at 0x7f9e48ad4a58>"
            ]
          },
          "metadata": {
            "tags": []
          },
          "execution_count": 24
        },
        {
          "output_type": "display_data",
          "data": {
            "image/png": "[encoded data removed]",
            "text/plain": [
              "<Figure size 1440x720 with 1 Axes>"
            ]
          },
          "metadata": {
            "tags": [],
            "needs_background": "light"
          }
        }
      ]
    }
  ]
}